{
 "cells": [
  {
   "cell_type": "markdown",
   "id": "85d3e2bd-cf10-4271-b765-1cfaa358ff7b",
   "metadata": {},
   "source": [
    "<h1>PCS Data Science Workshop</h1>"
   ]
  },
  {
   "cell_type": "markdown",
   "id": "40753eb9-dea2-4ec7-9dbc-a9d0cd70cd7c",
   "metadata": {},
   "source": [
    "Welcome to the PCS Data Science Workshop! This notebook will provide a brief overview of numerous data science techniques, many of which is covered in Data C100 (highly recommend) including\n",
    "* `Python`\n",
    "* `Numpy` and Vector Operations\n",
    "* `pandas`, EDA, and Data Manipulation\n",
    "* Visualization (`Matplotlib/Seaborn`)\n",
    "* Multilinear Modeling, Data Engineering, Gradient Descent, and `Scikit-Learn`"
   ]
  },
  {
   "cell_type": "markdown",
   "id": "539f8dd1-b963-46b0-831d-5b0e009d9d72",
   "metadata": {},
   "source": [
    "## Table of Contents\n",
    "* [**Python**](#python)\n",
    "    * [Lambda Functions](#lambda)\n",
    "    * [Iteration](#iteration)\n",
    "    * [List Comprehensions](#lc)\n",
    "* [**Vectorized Operations**](#vo)\n",
    "    * [How They Work](#how-vo-works)\n",
    "    * [Time Comparison (Iterated vs. Vectorized Operations)](#time-comp)\n",
    "* [**pandas and DataFrames**](#pd-df)\n",
    "    * [Accessing Rows, Columns, and Subsets](#df-slicing)\n",
    "    * [Filtering](#filtering)\n",
    "    * [Exploratory Data Analysis (EDA)](#eda)\n",
    "        * [You do some EDA](#your-eda)\n",
    "    * [Handling NaN and Missing Values](#nan)\n",
    "    * [Merges and Joins](#merge)\n",
    "* [**Visualization**](#visualization)"
   ]
  },
  {
   "cell_type": "markdown",
   "id": "45b823af-4b5f-4210-b463-368f4c875bba",
   "metadata": {},
   "source": [
    "#### First, Let's do Some Top Level Imports"
   ]
  },
  {
   "cell_type": "code",
   "execution_count": null,
   "id": "82e2e6c3-efbb-43c8-8a8f-05423cf8ec5d",
   "metadata": {},
   "outputs": [],
   "source": [
    "# Data Manipulation\n",
    "import pandas as pd\n",
    "import numpy as np\n",
    "\n",
    "# Visualization\n",
    "import plotly.express as px\n",
    "import plotly.graph_objects\n",
    "import seaborn as sns\n",
    "import matplotlib.pyplot as plt\n",
    "\n",
    "# Data Training\n",
    "from sklearn.linear_model import LinearRegression\n",
    "from sklearn.preprocessing import OneHotEncoder\n",
    "\n",
    "# Other things you may need\n",
    "import os\n",
    "import asyncio\n",
    "import aiohttp\n",
    "import time\n",
    "\n",
    "# Turning warnings off\n",
    "import warnings\n",
    "warnings.simplefilter(\"ignore\")"
   ]
  },
  {
   "cell_type": "markdown",
   "id": "ef3ac078-e20a-4598-96c9-cd3aa06e0d5e",
   "metadata": {},
   "source": [
    "<h1 id=\"python\"><a class=\"anchor\" id=\"python\">Python</a></h1>"
   ]
  },
  {
   "cell_type": "markdown",
   "id": "ef2c4010-a8cd-437d-aa09-dbc4fb0f066f",
   "metadata": {},
   "source": [
    "Python is the (arguably) the most important language used for data science, and most of the low level work you do will be in the Jupyter environment (which was developed by Cal's own professor, Fernando Perez!)\n",
    "\n",
    "Here are some important concepts to know"
   ]
  },
  {
   "cell_type": "markdown",
   "id": "c90ae713-fada-4645-9745-791d5e4c36c3",
   "metadata": {},
   "source": [
    "<h3><a class=\"anchor\" id=\"lambda\">Lambda Functions</a></h3>"
   ]
  },
  {
   "cell_type": "code",
   "execution_count": null,
   "id": "aec73d97-eb4a-4a50-a4d2-a23a391a9bdc",
   "metadata": {},
   "outputs": [],
   "source": [
    "# A function which returns x squared\n",
    "lambda x: x ** 2\n",
    "\n",
    "# A function which determines if a string has the word \"at\"\n",
    "lambda x: \"at\" in x\n",
    "\n",
    "# A function which finds if the percent of people who have a disability is greater than 20%\n",
    "lambda x: (x[\"Disability\"] / x[\"Total Population\"]) > 0.2;"
   ]
  },
  {
   "cell_type": "markdown",
   "id": "42de9457-7f00-44a3-9324-081b0d6d732c",
   "metadata": {},
   "source": [
    "<h3><a class=\"anchor\" id=\"iteration\">Iteration</a></h3>"
   ]
  },
  {
   "cell_type": "code",
   "execution_count": null,
   "id": "ff084da2-ad13-4d12-8c74-d844c761bcd9",
   "metadata": {},
   "outputs": [],
   "source": [
    "lst1 = [\"hello\", \"this\", \"is\"]\n",
    "lst2 = [\"a\", \"great\", \"workshop\"]\n",
    "\n",
    "# A for loop counter\n",
    "for i in range(len(lst1)):\n",
    "    print(lst1[i])\n",
    "\n",
    "# A for each loop\n",
    "for word in lst2:\n",
    "    print(word)"
   ]
  },
  {
   "cell_type": "markdown",
   "id": "a4228b65-b035-4404-a960-aa0facd586da",
   "metadata": {},
   "source": [
    "<h3><a class=\"anchor\" id=\"lc\">List Comprehensions</a></h3>"
   ]
  },
  {
   "cell_type": "code",
   "execution_count": null,
   "id": "2cdbf9fd-f9ae-440e-a198-fd6aab46457c",
   "metadata": {},
   "outputs": [],
   "source": [
    "# Checks if the words in list 1 and 2 have a length greater than 4\n",
    "[len(word) > 4 for word in lst1 + lst2]"
   ]
  },
  {
   "cell_type": "markdown",
   "id": "2e0d794a-06d0-4b8b-8a14-3fde34f6c478",
   "metadata": {},
   "source": [
    "<h1><a class=\"anchor\" id=\"vo\">Vectorized Operations</a></h1>"
   ]
  },
  {
   "cell_type": "code",
   "execution_count": null,
   "id": "76c6f7c4-ec64-459c-954e-7c95c09b3f26",
   "metadata": {},
   "outputs": [],
   "source": [
    "def current_time():\n",
    "    return int(time.time() * 1000)  # Get current time in milliseconds"
   ]
  },
  {
   "cell_type": "markdown",
   "id": "88708715-3edf-4d79-a089-6bf19ae3f792",
   "metadata": {},
   "source": [
    "When manipulating large amounts of data, it becomes slower and slower to iterate through every value to transform it... let's do a test"
   ]
  },
  {
   "cell_type": "code",
   "execution_count": null,
   "id": "15f966d4-440b-4f85-b4f9-83390cf4c65e",
   "metadata": {},
   "outputs": [],
   "source": [
    "for length in [10, 1000, 100000, 1000000, 10000000]:\n",
    "    t = current_time()\n",
    "    result = [x ** 2 + 1 for x in range(length)]\n",
    "    elapsed_time = current_time() - t\n",
    "    print(f\"Iterating through {length} values took {elapsed_time} milliseconds\")"
   ]
  },
  {
   "cell_type": "markdown",
   "id": "92554aa2-d6db-4187-b2be-5d4eb86381fc",
   "metadata": {},
   "source": [
    "To solve this, we can \"vectorize\" our operations using libraries like `Numpy` and `pandas`, which takes advantage of parallelism/multithreading to efficiently apply operations to large quantities of data"
   ]
  },
  {
   "cell_type": "code",
   "execution_count": null,
   "id": "e6550d21-7d5f-433c-9580-f8d1375b9c15",
   "metadata": {},
   "outputs": [],
   "source": [
    "for length in [10, 1000, 100000, 1000000, 10000000]:\n",
    "    t = current_time()\n",
    "    result = np.arange(length) ** 2\n",
    "    elapsed_time = current_time() - t\n",
    "    print(f\"Iterating through {length} values took {elapsed_time} milliseconds\")"
   ]
  },
  {
   "cell_type": "markdown",
   "id": "a794df91-fe33-4a5e-a709-ead5447105b4",
   "metadata": {},
   "source": [
    "<h3><a class=\"anchor\" id=\"time-comp\">Time Comparison (Iterated vs. Vectorized Operations)</a></h3>"
   ]
  },
  {
   "cell_type": "markdown",
   "id": "688bab77-6414-443b-9995-a64393b20aa1",
   "metadata": {},
   "source": [
    "As you can see, vectorized operations may be slower at first, but are significantly more efficienct when operating on millions of values"
   ]
  },
  {
   "cell_type": "code",
   "execution_count": null,
   "id": "bd66c5cd-e6af-4641-9efb-5bd24c2881d3",
   "metadata": {},
   "outputs": [],
   "source": [
    "# Create an empty DataFrame to store the times\n",
    "vectorized_vs_iterated = pd.DataFrame({\"Log (length)\": [], \"Vectorized\": [], \"Iterated\": []})\n",
    "\n",
    "for length in np.arange(25):\n",
    "    \n",
    "    # Vectorized Operation Time\n",
    "    t = current_time()\n",
    "    vectorized_result = np.arange(2 ** length) ** 2 + 5\n",
    "    vectorized_time = current_time() - t\n",
    "\n",
    "    # Iterated Operation Time\n",
    "    t = current_time()\n",
    "    iterated_result = [x ** 2 + 5 for x in range(2 ** length)]\n",
    "    iterated_time = current_time() - t\n",
    "\n",
    "    vectorized_vs_iterated = vectorized_vs_iterated.append({\"Log (length)\": length, \"Vectorized\": vectorized_time, \"Iterated\": iterated_time}, ignore_index=True)\n",
    "\n",
    "# Create a line plot using Plotly\n",
    "fig = px.line(vectorized_vs_iterated, x=\"Log (length)\", y=[\"Vectorized\", \"Iterated\"], labels={\"Log (length)\": \"Log(length)\", \"value\": \"Time (ms)\"}, title=\"Vectorized vs. Iterated Operation Time Comparison\")\n",
    "fig.show()"
   ]
  },
  {
   "cell_type": "markdown",
   "id": "addbe839-4006-48e2-8c37-f4bc4a135614",
   "metadata": {},
   "source": [
    "<h3><a class=\"anchor\" id=\"how-vo-works\">How Vectorized Operations Actually Work</a></h3>"
   ]
  },
  {
   "cell_type": "markdown",
   "id": "8caa10e0-1f14-4c26-bbc8-da435c5f5b0f",
   "metadata": {},
   "source": [
    "Using `Numpy`, we can create an `array` and apply functions directly to them like a string or number. In `pandas`, a `Series` will do the trick"
   ]
  },
  {
   "cell_type": "code",
   "execution_count": null,
   "id": "df5d3daa-4dd2-451a-8b8d-c5bdb6e12226",
   "metadata": {},
   "outputs": [],
   "source": [
    "# Using iteration\n",
    "python_list = range(5)\n",
    "print(f\"Python List Squared: {[x ** 2 for x in python_list]}\")\n",
    "\n",
    "# Using numpy arrays\n",
    "numpy_array = np.arange(5)\n",
    "# (Alternatively, you could run numpy_array = np.array(python_list) to turn a list into an array\n",
    "print(f\"Numpy Array Squared: {numpy_array ** 2}\")\n",
    "\n",
    "# Using pandas Series\n",
    "pandas_series = pd.Series(range(5))\n",
    "print(f\"Pandas Series Squared: \\n{pandas_series ** 2}\");\n",
    "\n",
    "# As you can see, both the series and the array have vectorized operations"
   ]
  },
  {
   "cell_type": "markdown",
   "id": "92d18dea-d49e-471a-88c6-5274b65caacd",
   "metadata": {},
   "source": [
    "If we want to slice a list of strings"
   ]
  },
  {
   "cell_type": "code",
   "execution_count": null,
   "id": "c2673ff8-30a1-4fcb-939f-4da45867a225",
   "metadata": {},
   "outputs": [],
   "source": [
    "pandas_series_str = pd.Series([\"Hello\", \"I\", \"Will\", \"Be\", \"Sliced\"])\n",
    "pandas_series_str.str[0]"
   ]
  },
  {
   "cell_type": "markdown",
   "id": "2ba083a0-d3ea-4922-9118-62f2c1654b85",
   "metadata": {},
   "source": [
    "If we want to find the ones with length greater than 5"
   ]
  },
  {
   "cell_type": "code",
   "execution_count": null,
   "id": "51a5adac-b34f-46f2-b72c-69ed1921860e",
   "metadata": {},
   "outputs": [],
   "source": [
    "pandas_series_str.str.len() > 5"
   ]
  },
  {
   "cell_type": "markdown",
   "id": "713e0283-eda8-448e-a740-2f700733f171",
   "metadata": {},
   "source": [
    "This will be very useful for later when it comes to EDA\n",
    "\n",
    "If you don't know how to do an operation, look at the documentation for these types of things:\n",
    "\n",
    "[pandas.Series](https://pandas.pydata.org/docs/reference/api/pandas.Series.html)\n",
    "\n",
    "[pandas.Series.str](https://pandas.pydata.org/docs/reference/api/pandas.Series.str.html)\n",
    "\n",
    "[Numpy.Array](https://numpy.org/doc/stable/reference/arrays.html)"
   ]
  },
  {
   "cell_type": "markdown",
   "id": "52a46f24-e5fc-4202-9755-ffed9f08288e",
   "metadata": {},
   "source": [
    "<h1><a class=\"anchor\" id=\"pd-df\">pandas and DataFrames</a></h1>"
   ]
  },
  {
   "cell_type": "markdown",
   "id": "2f8ab332-d819-49c1-823a-677bada05b4d",
   "metadata": {},
   "source": [
    "Here, we load a dataset containing information about all registered electric vehicles in Washington state\n",
    "\n",
    "Usually, data like this is stored in a `.csv` file, and can be read by `pandas` using `pd.read_csv(f'{route}')`\n",
    "\n",
    "This turns it into a table, which we call a `DataFrame`"
   ]
  },
  {
   "cell_type": "code",
   "execution_count": null,
   "id": "22d62fc5-87bd-4ca4-aa26-e108e46bc493",
   "metadata": {},
   "outputs": [],
   "source": [
    "ev_data = pd.read_csv('./Electric_Vehicle_Population_Data.csv')\n",
    "ev_data"
   ]
  },
  {
   "cell_type": "markdown",
   "id": "98c3f160-fc11-4248-9326-6ef9c88602e0",
   "metadata": {},
   "source": [
    "There could be a few things we want to do with this data... but in particular, we will take the time to answer the following questions:\n",
    "* How many of each \"make\" is there?\n",
    "* How many of each specific \"make\" and \"model\" are there?\n",
    "* How do we handle missing data?\n",
    "* How does the \"Electric Range\" compare for different \"makes\""
   ]
  },
  {
   "cell_type": "markdown",
   "id": "bd24daec-49a2-476e-9443-84726ad25abd",
   "metadata": {},
   "source": [
    "<h3><a class=\"anchor\" id=\"df-slicing\">Accessing Rows, Columns, and Subsets</a></h3>"
   ]
  },
  {
   "cell_type": "markdown",
   "id": "ca3ae1ed-d918-4e3d-84a6-aaee8d16a31d",
   "metadata": {},
   "source": [
    "#### The Slicing Operator\n",
    "\n",
    "The most basic and widely used operator for DataFrames is the slicing operator: `[]`\n",
    "\n",
    "There are a few things we can do with this:\n",
    "\n",
    "##### Columns\n",
    "\n",
    "* Get a column as a Series: `df['column_name']`\n",
    "* Get a column as a DataFrame: `df[['column_name']]`\n",
    "* Get multiple columns: `df[['column_name_1', 'column_name_2']]`\n",
    "\n",
    "##### Rows\n",
    "\n",
    "* Slice from m to n rows: `df[m:n]`\n",
    "* Get only rows with a `True` value (**important**): `df[[True, False, True, True... False, True]]`\n",
    "\n",
    "Let's look at how we can use these operations"
   ]
  },
  {
   "cell_type": "code",
   "execution_count": null,
   "id": "157075b7-a210-4737-a118-c9340a8ac21a",
   "metadata": {},
   "outputs": [],
   "source": [
    "# Getting a series\n",
    "ev_data[\"Make\"]"
   ]
  },
  {
   "cell_type": "code",
   "execution_count": null,
   "id": "3fe0786b-825c-4f37-9575-7be1f629a06a",
   "metadata": {},
   "outputs": [],
   "source": [
    "# Getting it as a DataFrame instead\n",
    "ev_data[[\"Make\"]] # You can think of this as a 2 dimensional object instead of 1 (we add another set of brackets)"
   ]
  },
  {
   "cell_type": "markdown",
   "id": "145336f4-283c-4df3-82d7-08f8f9d496f8",
   "metadata": {},
   "source": [
    "We can apply vectorized operations to Series objects"
   ]
  },
  {
   "cell_type": "code",
   "execution_count": null,
   "id": "b9d2b2f5-68cb-4f26-9bf2-af308ea15e23",
   "metadata": {},
   "outputs": [],
   "source": [
    "KILOMETERS_PER_MILE = 1.60934\n",
    "ev_data[\"Electric Range\"] * KILOMETERS_PER_MILE"
   ]
  },
  {
   "cell_type": "markdown",
   "id": "57ce6173-7b55-48c7-bbdd-9370d78dbdec",
   "metadata": {},
   "source": [
    "We can even use this to add a column to our DataFrame"
   ]
  },
  {
   "cell_type": "code",
   "execution_count": null,
   "id": "2034c4a4-d2d2-48ba-8250-4b2716dc99ea",
   "metadata": {},
   "outputs": [],
   "source": [
    "ev_data[\"Electric Range (km)\"] = ev_data[\"Electric Range\"] * KILOMETERS_PER_MILE\n",
    "ev_data"
   ]
  },
  {
   "cell_type": "markdown",
   "id": "e0381dfc-b008-4501-87ae-f1ded85c0c10",
   "metadata": {},
   "source": [
    "If I want to get the `\"Make\"`, `\"Model\"`, and `\"Electric Range\"` columns"
   ]
  },
  {
   "cell_type": "code",
   "execution_count": null,
   "id": "002bd901-7451-433d-ba6a-35ab9ca52d5c",
   "metadata": {},
   "outputs": [],
   "source": [
    "ev_data[[\"Make\", \"Model\", \"Electric Range\"]] # Notice the double brackets"
   ]
  },
  {
   "cell_type": "markdown",
   "id": "e72c3d11-ac7c-49eb-92b0-125c1796773c",
   "metadata": {},
   "source": [
    "Single brackets here error out because it thinks we are trying to access rows"
   ]
  },
  {
   "cell_type": "code",
   "execution_count": null,
   "id": "e8e6f549-0971-4d48-8d95-757e1175a2e8",
   "metadata": {},
   "outputs": [],
   "source": [
    "try:\n",
    "    ev_data[\"Make\", \"Model\", \"Electric Range\"]\n",
    "except KeyError as k:\n",
    "    print(f\"{k} cannot be accessed as rows in this DataFrame\")"
   ]
  },
  {
   "cell_type": "markdown",
   "id": "47be42e5-f4c0-4bf5-b10f-b335f123f8cd",
   "metadata": {},
   "source": [
    "Accessing the first five rows\n",
    "\n",
    "Alternatively, we could run `ev_data.head(5)`"
   ]
  },
  {
   "cell_type": "code",
   "execution_count": null,
   "id": "b8ef30dd-37db-4759-981f-1b200967a42b",
   "metadata": {},
   "outputs": [],
   "source": [
    "ev_data[:5]"
   ]
  },
  {
   "cell_type": "markdown",
   "id": "c9f7fea2-cccc-45b3-bb9f-e9882d97e505",
   "metadata": {},
   "source": [
    "<h3><a class=\"anchor\" id=\"filtering\">Filtering (<b>important</b>)</a></h3>\n",
    "\n",
    "What if we want to sort to only where the `\"Make\"` is \"TESLA\"?\n",
    "\n",
    "We can start by accessing the `\"Make\"` column"
   ]
  },
  {
   "cell_type": "code",
   "execution_count": null,
   "id": "f9b94c5b-7236-4840-bcf6-06ed118761b7",
   "metadata": {},
   "outputs": [],
   "source": [
    "make = ev_data[\"Make\"]\n",
    "make"
   ]
  },
  {
   "cell_type": "markdown",
   "id": "d0d8931e-4a93-4cfb-a626-c7c04b6566d1",
   "metadata": {},
   "source": [
    "We can then use **vectorized operations** to find where the `\"Make\"` is \"TESLA\""
   ]
  },
  {
   "cell_type": "code",
   "execution_count": null,
   "id": "598c492f-3661-4de6-94eb-29a663794217",
   "metadata": {},
   "outputs": [],
   "source": [
    "make_is_tesla = (make == \"TESLA\")\n",
    "make_is_tesla"
   ]
  },
  {
   "cell_type": "markdown",
   "id": "4bd833b3-0290-4de2-9693-78ce4f954104",
   "metadata": {},
   "source": [
    "We can then use this to access the DataFrame only where the `\"Make\"` is \"TESLA\"\n",
    "\n",
    "Remember this...? \n",
    "\n",
    "*Get only rows with a `True` value (**important**): `df[[True, False, True, True... False, True]]`*"
   ]
  },
  {
   "cell_type": "code",
   "execution_count": null,
   "id": "aaa9be97-b051-4919-8749-f9bab2eebfd0",
   "metadata": {},
   "outputs": [],
   "source": [
    "ev_data[make_is_tesla]"
   ]
  },
  {
   "cell_type": "markdown",
   "id": "c6efdf53-5c30-4898-a732-3f650b27fb19",
   "metadata": {},
   "source": [
    "All in all, we can run it in one operation as so, which is the standard for non-complex operations \n",
    "\n",
    "A good way of thinking about this is:\n",
    "\n",
    "*ev_data where ev_data column \"Make\" is \"TESLA\"*"
   ]
  },
  {
   "cell_type": "code",
   "execution_count": null,
   "id": "b94474ac-ffd2-421c-98d9-4ac7fddcfb17",
   "metadata": {},
   "outputs": [],
   "source": [
    "ev_data[ev_data[\"Make\"] == \"TESLA\"]"
   ]
  },
  {
   "cell_type": "markdown",
   "id": "e8d177e3-fbce-47a6-9338-839882067acd",
   "metadata": {},
   "source": [
    "Let's do another where we find the rows where the `\"Electric Range\"` is greater than 200"
   ]
  },
  {
   "cell_type": "code",
   "execution_count": null,
   "id": "4b7331d0-8a41-4b54-8145-c6d8ae99b5c1",
   "metadata": {},
   "outputs": [],
   "source": [
    "ev_data[ev_data[\"Electric Range\"] > 200]"
   ]
  },
  {
   "cell_type": "markdown",
   "id": "0c56d443-7bc4-4f43-a1c0-ab4d88cbdaf0",
   "metadata": {},
   "source": [
    "<h3><a class=\"anchor\" id=\"eda\">Exploratory Data Analysis (EDA)</a></h3>\n",
    "\n",
    "By far, the most important topic covered today! This is just a brief overview, but we will show you how to do some interesting EDA on the dataset, and introduce the idea of data cleaning\n",
    "\n",
    "Here are some of the functions we will look at:\n",
    "* `df.value_counts(\"column\")` - counting values\n",
    "* `df.sort_values(\"column\")` - sorting by a column\n",
    "* `df.groupby(\"column\").agg(func)` - grouping by a column (or multiple) and aggregating by a function\n",
    "* `df.groupby(\"column\").filter(func)` - groupbing by a column (or multiple) and filtering by a function"
   ]
  },
  {
   "cell_type": "code",
   "execution_count": null,
   "id": "ab331afb-ff47-48c4-ac68-a3642fcc1ff6",
   "metadata": {},
   "outputs": [],
   "source": [
    "ev_data.value_counts(\"Make\")"
   ]
  },
  {
   "cell_type": "code",
   "execution_count": null,
   "id": "145166e8-8b11-4d6b-8bc1-4bf0152ff98d",
   "metadata": {},
   "outputs": [],
   "source": [
    "ev_data.sort_values(\"Electric Range\", ascending=False)"
   ]
  },
  {
   "cell_type": "code",
   "execution_count": null,
   "id": "f13a15d9-f9bb-41dc-b8e0-4272ee59d53f",
   "metadata": {},
   "outputs": [],
   "source": [
    "ev_data.value_counts([\"Make\", \"Model\"])"
   ]
  },
  {
   "cell_type": "markdown",
   "id": "b71dbe40-fc4c-4a52-afaa-27c8a1eff9cf",
   "metadata": {},
   "source": [
    "If we want to find the average `\"Electric Range\"` per vehicle `\"Make\"`"
   ]
  },
  {
   "cell_type": "code",
   "execution_count": null,
   "id": "6c2d7a77-342a-4212-a85b-e676557bb31c",
   "metadata": {},
   "outputs": [],
   "source": [
    "ev_data[[\"Make\", \"Electric Range\"]].groupby(\"Make\").agg(np.mean).sort_values(\"Electric Range\", ascending=False)"
   ]
  },
  {
   "cell_type": "markdown",
   "id": "b8235696-f85a-46cd-af78-b41e511a0120",
   "metadata": {},
   "source": [
    "If we want to filter to rows where there are at least 500 of that car `\"Make\"`"
   ]
  },
  {
   "cell_type": "code",
   "execution_count": null,
   "id": "4da5bcec-b817-4120-893c-dcbdf11166e8",
   "metadata": {},
   "outputs": [],
   "source": [
    "at_least_500 = ev_data.groupby(\"Make\").filter(lambda x: len(x) >= 500)\n",
    "at_least_500"
   ]
  },
  {
   "cell_type": "code",
   "execution_count": null,
   "id": "e7f5dec9-f589-4d0b-a402-bba232fd55d6",
   "metadata": {},
   "outputs": [],
   "source": [
    "# Let's do a sanity check!\n",
    "at_least_500.value_counts(\"Make\")"
   ]
  },
  {
   "cell_type": "markdown",
   "id": "26674878-6fee-481d-8f61-b87ec59511f3",
   "metadata": {},
   "source": [
    "<h3><a class=\"anchor\" id=\"your-eda\">You do some EDA!!!</a></h3>\n",
    "\n",
    "Give us some things to look at for this DataFrame :) - we will show you how to do it!"
   ]
  },
  {
   "cell_type": "code",
   "execution_count": null,
   "id": "9b6b265d-faf6-49dd-ad54-ab0cdbf9d8e8",
   "metadata": {},
   "outputs": [],
   "source": [
    "# EDA"
   ]
  },
  {
   "cell_type": "code",
   "execution_count": null,
   "id": "f4feaccb-d5fa-4b2f-8c0a-7976eefc52c7",
   "metadata": {},
   "outputs": [],
   "source": [
    "# EDA"
   ]
  },
  {
   "cell_type": "code",
   "execution_count": null,
   "id": "5609ae40-a045-4cbc-bbc7-8320c2711ef7",
   "metadata": {},
   "outputs": [],
   "source": [
    "# EDA"
   ]
  },
  {
   "cell_type": "code",
   "execution_count": null,
   "id": "cc20092f-db45-4cbd-8455-ba3a0a798270",
   "metadata": {},
   "outputs": [],
   "source": [
    "# EDA"
   ]
  },
  {
   "cell_type": "code",
   "execution_count": null,
   "id": "d6850cf0-e1e2-4dfe-8d27-c86c7cf782d3",
   "metadata": {},
   "outputs": [],
   "source": [
    "# EDA"
   ]
  },
  {
   "cell_type": "markdown",
   "id": "3f646240-4c7d-4563-8bfa-fce46844c669",
   "metadata": {},
   "source": [
    "<h3><a class=\"anchor\" id=\"nan\">Handling NaN or Missing Values</a></h3>"
   ]
  },
  {
   "cell_type": "code",
   "execution_count": null,
   "id": "65281881-8b07-47b7-99c1-4bf5b542ca9b",
   "metadata": {},
   "outputs": [],
   "source": [
    "at_least_500[at_least_500[\"Legislative District\"].isna()]"
   ]
  },
  {
   "cell_type": "code",
   "execution_count": null,
   "id": "6d375ca5-464f-4efb-84be-2cae212cc404",
   "metadata": {},
   "outputs": [],
   "source": [
    "non_wa = at_least_500[at_least_500[\"State\"] != \"WA\"]\n",
    "non_wa"
   ]
  },
  {
   "cell_type": "code",
   "execution_count": null,
   "id": "ced72cc5-6cc8-49ca-9abe-e199500ee014",
   "metadata": {},
   "outputs": [],
   "source": [
    "all(non_wa[\"Legislative District\"].isna())"
   ]
  },
  {
   "cell_type": "markdown",
   "id": "d87befe1-4a5c-4729-acd4-3c3ee63d1c99",
   "metadata": {},
   "source": [
    "Looks like we found that the \"Washington\" data contains information from a few other states and British Columbia... we aren't interested in that data, so we can drop it"
   ]
  },
  {
   "cell_type": "code",
   "execution_count": null,
   "id": "58804de8-ba21-4360-96a5-4b27cbfb62bc",
   "metadata": {},
   "outputs": [],
   "source": [
    "ev_data_wa = at_least_500[at_least_500[\"State\"] == \"WA\"]\n",
    "ev_data_wa"
   ]
  },
  {
   "cell_type": "markdown",
   "id": "684e342b-a3d9-40b3-9b31-4fcca25322f8",
   "metadata": {},
   "source": [
    "<h3><a class=\"anchor\" id=\"merge\">Merges and Joins</a></h3>\n",
    "\n",
    "We can even use the data from multiple tables to enrich a single `DataFrame` - Let's use the ZIP code to ZCTA excel mapping as an example\n",
    "\n",
    "What if I want to know what the ZCTA is for each of these areas?"
   ]
  },
  {
   "cell_type": "code",
   "execution_count": null,
   "id": "9220de71-113d-4a6c-8020-e8e36fee3760",
   "metadata": {},
   "outputs": [],
   "source": [
    "# Read the file in\n",
    "zip_to_zcta = pd.read_excel('./ZIP_to_ZCTA.xlsx') # Notice the different extension on this one\n",
    "zip_to_zcta"
   ]
  },
  {
   "cell_type": "markdown",
   "id": "9f0b4fcb-f1fb-4403-9516-9e1cd3eba188",
   "metadata": {},
   "source": [
    "It looks like something is wrong with the `\"ZIP_CODE\"` and `\"zcta\"` columns... let's clean them"
   ]
  },
  {
   "cell_type": "code",
   "execution_count": null,
   "id": "63a15440-8983-43b3-a883-410c99e01030",
   "metadata": {},
   "outputs": [],
   "source": [
    "clean_zip = lambda x: ((5 - x.astype(str).str.len()).apply(lambda y: y * \"0\") + x.astype(str))\n",
    "clean_zcta = lambda x: ((7 - x.astype(str).str.len()).apply(lambda y: y * \"0\") + x.astype(str).str[:-2])\n",
    "zip_to_zcta[\"ZIP_cleaned\"] = clean_zip(zip_to_zcta[\"ZIP_CODE\"])\n",
    "zip_to_zcta[\"ZCTA_cleaned\"] = clean_zcta(zip_to_zcta[\"zcta\"])\n",
    "zip_to_zcta"
   ]
  },
  {
   "cell_type": "markdown",
   "id": "55285aa3-cb67-4656-acce-4bb0d68f608a",
   "metadata": {},
   "source": [
    "Let's also clean the zip in `ev_data_wa`"
   ]
  },
  {
   "cell_type": "code",
   "execution_count": null,
   "id": "b6e98545-ef59-4715-b0f8-bbe1168bf05a",
   "metadata": {},
   "outputs": [],
   "source": [
    "ev_data_wa[\"ZIP\"] = clean_zcta(ev_data_wa[\"Postal Code\"])\n",
    "ev_data_wa"
   ]
  },
  {
   "cell_type": "markdown",
   "id": "f8129151-303b-434c-9383-aeebbfe958ea",
   "metadata": {},
   "source": [
    "That's better! Now let's perform a merge using `df.merge` [(documentation)](https://pandas.pydata.org/docs/reference/api/pandas.DataFrame.merge.html)"
   ]
  },
  {
   "cell_type": "code",
   "execution_count": null,
   "id": "18aa70b5-15ea-4b3f-a125-8131fb3f920d",
   "metadata": {},
   "outputs": [],
   "source": [
    "ev_data_with_zcta = ev_data_wa.merge(zip_to_zcta[[\"ZIP_cleaned\", \"ZCTA_cleaned\"]],\n",
    "                                     left_on=\"ZIP\",\n",
    "                                     right_on=\"ZIP_cleaned\")\n",
    "ev_data_with_zcta.drop(columns=[\"Postal Code\"]) # We can drop the 'Postal Code' column\n",
    "ev_data_with_zcta"
   ]
  },
  {
   "cell_type": "markdown",
   "id": "6e3a6a0e-d11e-430f-83fc-d800d717cbf6",
   "metadata": {},
   "source": [
    "Perfect! What we did represents most of the EDA, data cleaning, and other things you may need to do with `pandas` - it's time to move on to...\n",
    "\n",
    "<h1><a class=\"anchor\" id=\"visualization\">Visualization</a></h1>\n",
    "\n",
    "For visualization, we will be using `matplotlib.pyplot` (`plt`) and `seaborn` (`sns`), but `plotly` is also a great option!"
   ]
  },
  {
   "cell_type": "code",
   "execution_count": null,
   "id": "6aff322b-581d-4a60-a50e-4158e2d4d42c",
   "metadata": {},
   "outputs": [],
   "source": []
  }
 ],
 "metadata": {
  "kernelspec": {
   "display_name": "Python 3 (ipykernel)",
   "language": "python",
   "name": "python3"
  },
  "language_info": {
   "codemirror_mode": {
    "name": "ipython",
    "version": 3
   },
   "file_extension": ".py",
   "mimetype": "text/x-python",
   "name": "python",
   "nbconvert_exporter": "python",
   "pygments_lexer": "ipython3",
   "version": "3.9.12"
  }
 },
 "nbformat": 4,
 "nbformat_minor": 5
}
